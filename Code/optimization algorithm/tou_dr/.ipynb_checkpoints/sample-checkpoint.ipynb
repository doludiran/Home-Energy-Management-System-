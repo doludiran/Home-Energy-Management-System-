{
 "cells": [
  {
   "cell_type": "markdown",
   "metadata": {},
   "source": []
  },
  {
   "cell_type": "code",
   "execution_count": 1,
   "metadata": {},
   "outputs": [
    {
     "name": "stdout",
     "output_type": "stream",
     "text": [
      "50.000000010851906\n",
      "[1.02621808e-08 4.76540967e-09 3.26759416e-09 2.81520830e-09\n",
      " 2.46485669e-09 1.00000000e+01 1.00000000e+01 1.00000000e+01\n",
      " 1.00000000e+01 1.00000000e+01 1.00000000e+01 1.00000000e+01\n",
      " 1.00000000e+01 1.00000000e+01 1.00000000e+01 1.00000000e+01\n",
      " 1.00000000e+01 1.00000000e+01 1.00000000e+01 1.00000000e+01\n",
      " 1.00000000e+01 1.00000000e+01 9.99999999e+00 9.99999999e+00\n",
      " 9.99999998e+00 2.31214831e-08 1.18129529e-08 2.58963560e-09\n",
      " 1.10830862e-09 1.43830483e-09 1.66401275e-09 1.62491157e-09\n",
      " 1.27928407e-09 1.10455116e-09 9.51460950e-10 8.20990487e-10\n",
      " 7.11262017e-10 6.19757664e-10 5.43971222e-10 4.81578875e-10\n",
      " 4.30479302e-10 3.88802073e-10 3.54906773e-10 3.27376089e-10\n",
      " 3.05003232e-10 2.86774656e-10 2.71849734e-10 2.59539103e-10\n",
      " 2.49283174e-10 2.40631862e-10 2.33226184e-10 2.26782042e-10\n",
      " 2.21076254e-10 2.15934744e-10 2.11222702e-10 2.06836496e-10\n",
      " 2.02697072e-10 1.98744640e-10 1.94934413e-10 1.91233210e-10\n",
      " 1.87616787e-10 1.84067721e-10 1.80573770e-10 1.77126591e-10\n",
      " 1.70352964e-10 9.65485203e-11 9.34282638e-11 9.04692545e-11\n",
      " 8.76751965e-11 8.50496595e-11 8.25960498e-11 8.03175819e-11\n",
      " 7.82172514e-11 7.62978090e-11 7.45617362e-11 7.30112228e-11\n",
      " 7.16481454e-11 7.04740490e-11 6.94901307e-11 6.86972262e-11\n",
      " 6.80957999e-11 6.76859395e-11 6.74673545e-11 6.74393824e-11\n",
      " 6.76010006e-11 6.79508482e-11 6.84872579e-11 6.92083021e-11\n",
      " 7.01118537e-11 7.11956686e-11 7.24574908e-11 7.38951890e-11\n",
      " 7.55069296e-11 7.72913955e-11 7.92480625e-11 8.13775455e-11]\n"
     ]
    },
    {
     "data": {
      "text/plain": [
       "([<matplotlib.axis.XTick at 0xb1de3d320>,\n",
       "  <matplotlib.axis.XTick at 0xb1de34c18>,\n",
       "  <matplotlib.axis.XTick at 0xb1de34390>,\n",
       "  <matplotlib.axis.XTick at 0xb1de5d780>,\n",
       "  <matplotlib.axis.XTick at 0xb1de5dc50>,\n",
       "  <matplotlib.axis.XTick at 0xb1de64198>,\n",
       "  <matplotlib.axis.XTick at 0xb1de5d828>],\n",
       " <a list of 7 Text xticklabel objects>)"
      ]
     },
     "execution_count": 1,
     "metadata": {},
     "output_type": "execute_result"
    }
   ],
   "source": [
    "from dropt import dropt\n",
    "import pandas as pd\n",
    "import matplotlib.pyplot as plt\n",
    "import numpy as np\n",
    "impory datetime as DT\n",
    "\n",
    "# read .csv\n",
    "mp = pd.read_csv(\"hourlyprice3.csv\",header=None)\n",
    "# convert dataframe to array \n",
    "price1 = mp.values\n",
    "price = np.transpose(price1)\n",
    "t_start=\"1:25\" \n",
    "t_complete=\"16:20\" \n",
    "p_rated = 10 # rated power kW\n",
    "energy = 50 # the energy needed, kWh\n",
    "\n",
    "load_profile = dropt(price, p_rated, energy, t_start, t_complete)\n",
    "\n",
    "n = np.size(price)    \n",
    "min_per_k = 1440/n\n",
    "payment = np.sum(load_profile*price) * min_per_k /60\n",
    "print(payment) \n",
    "\n",
    "#print(payment)\n",
    "\n",
    "\n",
    "plt.plot(price1)\n",
    "x_skip = 4;\n",
    "plt.xticks(np.arange(0, n+1, step=x_skip*(60/min_per_k)), np.arange(0, 25, step=x_skip))\n",
    "plt.title('price')\n",
    "plt.figure()\n",
    "plt.plot(load_profile)\n",
    "plt.xticks(np.arange(0, n+1, step=x_skip*(60/min_per_k)), np.arange(0, 25, step=x_skip))\n",
    "\n"
   ]
  },
  {
   "cell_type": "code",
   "execution_count": null,
   "metadata": {},
   "outputs": [],
   "source": [
    "import requests\n",
    "import json\n",
    "import pandas as pd\n",
    "\n",
    "tou=requests.get('http://www2.cs.uregina.ca/~joshi26a/utility portal/tou_json/tou_json.json').json()\n",
    "tou_df = pd.DataFrame(tou[0], columns=['TOU From', 'TOU TO' , 'TOU Price', 'TOU Period'])\n",
    "tou\n"
   ]
  },
  {
   "cell_type": "code",
   "execution_count": 10,
   "metadata": {},
   "outputs": [
    {
     "name": "stdout",
     "output_type": "stream",
     "text": [
      "{'TOU Effective From': '2017-05-12', 'TOU Effective To': '2019-05-02'}\n",
      "  TOU From TOU To TOU Price TOU Period\n",
      "0    10:02  12:00         2    ON-Peak\n",
      "1    01:02  04:00         1   OFF-Peak\n",
      "[[{'TOU Effective From': '2017-05-12', 'TOU Effective To': '2019-05-02'}, {'TOU From': '10:02', 'TOU To': '12:00', 'TOU Period': 'ON-Peak', 'TOU Price': '2'}, {'TOU From': '01:02', 'TOU To': '04:00', 'TOU Period': 'OFF-Peak', 'TOU Price': '1'}]]\n"
     ]
    }
   ],
   "source": [
    "import requests\n",
    "import json\n",
    "import pandas as pd\n",
    "\n",
    "tou=requests.get('http://www2.cs.uregina.ca/~joshi26a/utility portal/tou_json/tou_json.json').json()\n",
    "tou_d = tou[0]\n",
    "i = 1\n",
    "tou_df = []\n",
    "while i < len(tou_d):\n",
    "    tou_df.append(tou_d[i])\n",
    "    i+=1\n",
    "\n",
    "tou_dfd=tou_d[0]\n",
    "tou_period_df = pd.DataFrame(tou_df, columns=['TOU From', 'TOU To' , 'TOU Price', 'TOU Period'])\n",
    "print(tou_dfd)\n",
    "print(tou_period_df)\n",
    "print(tou)"
   ]
  },
  {
   "cell_type": "code",
   "execution_count": 2,
   "metadata": {},
   "outputs": [
    {
     "name": "stdout",
     "output_type": "stream",
     "text": [
      "[28.0]\n"
     ]
    }
   ],
   "source": [
    "import requests\n",
    "import json\n",
    "import pandas as pd\n",
    "import datetime as DT\n",
    "\n",
    "def converttomins(timevalue, timeformat):\n",
    "    t1 = DT.datetime.strptime(timevalue, timeformat)\n",
    "    t2 = DT.datetime(1900,1,1)\n",
    "    totalminutes = (t1-t2).total_seconds() / 60.0\n",
    "    return totalminutes\n",
    "\n",
    "tou=requests.get('http://www2.cs.uregina.ca/~joshi26a/utility portal/tou_json/tou_json.json').json()\n",
    "tou_d = tou[0]\n",
    "i = 1\n",
    "tou_df = []\n",
    "while i < len(tou_d):\n",
    "    tou_df.append(tou_d[i])\n",
    "    i+=1\n",
    "tou_diff =[]\n",
    "\n",
    "i = 0\n",
    "while i < len(tou_df):\n",
    "    totalFromminutes = converttomins(tou_df[i]['TOU From'], '%H:%M:%S')\n",
    "    totalTominutes = converttomins(tou_df[i]['TOU To'], '%H:%M:%S')\n",
    "    diff = totalTominutes - totalFromminutes\n",
    "    diff = diff/15\n",
    "    tou_diff.append(diff)\n",
    "    i+=1\n",
    "print(tou_diff) \n",
    "\n"
   ]
  },
  {
   "cell_type": "code",
   "execution_count": null,
   "metadata": {},
   "outputs": [],
   "source": []
  }
 ],
 "metadata": {
  "kernelspec": {
   "display_name": "Python 3",
   "language": "python",
   "name": "python3"
  },
  "language_info": {
   "codemirror_mode": {
    "name": "ipython",
    "version": 3
   },
   "file_extension": ".py",
   "mimetype": "text/x-python",
   "name": "python",
   "nbconvert_exporter": "python",
   "pygments_lexer": "ipython3",
   "version": "3.6.8"
  }
 },
 "nbformat": 4,
 "nbformat_minor": 2
}
