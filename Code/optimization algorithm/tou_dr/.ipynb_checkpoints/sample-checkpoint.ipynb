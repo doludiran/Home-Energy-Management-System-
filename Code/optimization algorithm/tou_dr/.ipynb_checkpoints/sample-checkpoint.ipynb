{
 "cells": [
  {
   "cell_type": "markdown",
   "metadata": {},
   "source": []
  },
  {
   "cell_type": "code",
   "execution_count": null,
   "metadata": {},
   "outputs": [],
   "source": [
    "from dropt import dropt\n",
    "import pandas as pd\n",
    "import matplotlib.pyplot as plt\n",
    "import numpy as np\n",
    "\n",
    "\n",
    "# read .csv\n",
    "mp = pd.read_csv(\"hourlyprice3.csv\",header=None)\n",
    "# convert dataframe to array \n",
    "price1 = mp.values\n",
    "price = np.transpose(price1)\n",
    "t_start=\"1:25\" \n",
    "t_complete=\"16:20\" \n",
    "p_rated = 10 # rated power kW\n",
    "energy = 50 # the energy needed, kWh\n",
    "newprice =[1, 1, 1, 1, 2, 2, 2, 2, 1, 1, 1, 1, 3, 3, 3, 3, 1, 1, 1, 1, 3, 3, 3, 3, 1, 1, 1, 1, 3, 3, 3, 3, 2, 2, 2, 2, 2, 2, 2, 2, 3, 3, 3, 3, 2, 2, 2, 2, 1, 1, 1, 1, 2, 2, 2, 2, 3, 3, 3, 3, 2, 2, 2, 2, 3, 3, 3, 3, 1, 1, 1, 1, 3, 3, 3, 3, 2, 2, 2, 2, 3, 3, 3, 3, 3, 3, 3, 1, 1, 1, 1, 3, 3, 3, 3, 3]\n",
    "load_profile = dropt(newprice, p_rated, energy, t_start, t_complete)\n",
    "\n",
    "n = np.size(price)    \n",
    "min_per_k = 1440/n\n",
    "payment = np.sum(load_profile*price) * min_per_k /60\n",
    "print(payment) \n",
    "\n",
    "print(newprice)\n",
    "print(load_profile)\n",
    "print(len(load_profile))\n",
    "\n",
    "\n",
    "plt.plot(price1)\n",
    "x_skip = 4;\n",
    "plt.xticks(np.arange(0, n+1, step=x_skip*(60/min_per_k)), np.arange(0, 25, step=x_skip))\n",
    "plt.title('newprice')\n",
    "plt.figure()\n",
    "plt.plot(load_profile)\n",
    "plt.xticks(np.arange(0, n+1, step=x_skip*(60/min_per_k)), np.arange(0, 25, step=x_skip))\n",
    "\n"
   ]
  },
  {
   "cell_type": "code",
   "execution_count": null,
   "metadata": {},
   "outputs": [],
   "source": [
    "import requests\n",
    "import json\n",
    "import pandas as pd\n",
    "\n",
    "tou=requests.get('http://www2.cs.uregina.ca/~joshi26a/utility portal/tou_json/tou_json.json').json()\n",
    "tou_df = pd.DataFrame(tou[0], columns=['TOU From', 'TOU TO' , 'TOU Price', 'TOU Period'])\n",
    "tou\n"
   ]
  },
  {
   "cell_type": "code",
   "execution_count": null,
   "metadata": {},
   "outputs": [],
   "source": []
  },
  {
   "cell_type": "code",
   "execution_count": 66,
   "metadata": {},
   "outputs": [
    {
     "name": "stdout",
     "output_type": "stream",
     "text": [
      "{'TOU Effective From': '2019-03-01', 'TOU Effective To': '2019-04-31'}\n",
      "   TOU From    TOU To TOU Price TOU Period\n",
      "0  00:00:00  06:00:00         1   OFF-Peak\n",
      "1  06:00:00  11:00:00         3    ON-Peak\n",
      "2  11:00:00  17:00:00         2   MID-Peak\n",
      "3  17:00:00  19:00:00         3    ON-Peak\n",
      "4  19:00:00  00:00:00         1   OFF-Peak\n",
      "[[{'TOU Effective From': '2019-03-01', 'TOU Effective To': '2019-04-31'}, {'TOU From': '00:00:00', 'TOU To': '06:00:00', 'TOU Period': 'OFF-Peak', 'TOU Price': '1'}, {'TOU From': '06:00:00', 'TOU To': '11:00:00', 'TOU Period': 'ON-Peak', 'TOU Price': '3'}, {'TOU From': '11:00:00', 'TOU To': '17:00:00', 'TOU Period': 'MID-Peak', 'TOU Price': '2'}, {'TOU From': '17:00:00', 'TOU To': '19:00:00', 'TOU Period': 'ON-Peak', 'TOU Price': '3'}, {'TOU From': '19:00:00', 'TOU To': '00:00:00', 'TOU Period': 'OFF-Peak', 'TOU Price': '1'}]]\n"
     ]
    }
   ],
   "source": [
    "import requests\n",
    "import json\n",
    "import pandas as pd\n",
    "\n",
    "tou=requests.get('http://www2.cs.uregina.ca/~joshi26a/utility portal/tou_json/tou_json.json').json()\n",
    "tou_d = tou[0]\n",
    "i = 1\n",
    "tou_df = []\n",
    "while i < len(tou_d):\n",
    "    tou_df.append(tou_d[i])\n",
    "    i+=1\n",
    "\n",
    "tou_dfd=tou_d[0]\n",
    "tou_period_df = pd.DataFrame(tou_df, columns=['TOU From', 'TOU To' , 'TOU Price', 'TOU Period'])\n",
    "print(tou_dfd)\n",
    "print(tou_period_df)\n",
    "print(tou)"
   ]
  },
  {
   "cell_type": "code",
   "execution_count": 73,
   "metadata": {},
   "outputs": [
    {
     "name": "stdout",
     "output_type": "stream",
     "text": [
      "[{'TOU From': '00:00:00', 'TOU To': '06:00:00', 'TOU Period': 'OFF-Peak', 'TOU Price': '1', 'Total Minutes': 24.0}, {'TOU From': '06:00:00', 'TOU To': '11:00:00', 'TOU Period': 'ON-Peak', 'TOU Price': '3', 'Total Minutes': 20.0}, {'TOU From': '11:00:00', 'TOU To': '17:00:00', 'TOU Period': 'MID-Peak', 'TOU Price': '2', 'Total Minutes': 24.0}, {'TOU From': '17:00:00', 'TOU To': '19:00:00', 'TOU Period': 'ON-Peak', 'TOU Price': '3', 'Total Minutes': 8.0}, {'TOU From': '19:00:00', 'TOU To': '00:00:00', 'TOU Period': 'OFF-Peak', 'TOU Price': '1', 'Total Minutes': 20.0}]\n",
      "[[24, 20, 24, 8, 20], ['#2ecc71', '#e74c3c', '#e7a23c', '#e74c3c', '#2ecc71'], [1, 1, 1, 1, 1, 1, 1, 1, 1, 1, 1, 1, 1, 1, 1, 1, 1, 1, 1, 1, 1, 1, 1, 1, 3, 3, 3, 3, 3, 3, 3, 3, 3, 3, 3, 3, 3, 3, 3, 3, 3, 3, 3, 3, 2, 2, 2, 2, 2, 2, 2, 2, 2, 2, 2, 2, 2, 2, 2, 2, 2, 2, 2, 2, 2, 2, 2, 2, 3, 3, 3, 3, 3, 3, 3, 3, 1, 1, 1, 1, 1, 1, 1, 1, 1, 1, 1, 1, 1, 1, 1, 1, 1, 1, 1, 1]]\n",
      "96\n"
     ]
    }
   ],
   "source": [
    "import requests\n",
    "import json\n",
    "import pandas as pd\n",
    "import datetime as DT\n",
    "\n",
    "Total_Daily_Minutes =1440\n",
    "DR_interval = 15\n",
    "minutes = 60\n",
    "\n",
    "def converttomins(timevalue, timeformat):\n",
    "    t1 = DT.datetime.strptime(timevalue, timeformat)\n",
    "    t2 = DT.datetime(1900,1,1)\n",
    "    totalminutes = (t1-t2).total_seconds()/minutes \n",
    "    return totalminutes\n",
    "\n",
    "def retrieveToU():\n",
    "    tou=requests.get('http://www2.cs.uregina.ca/~joshi26a/utility portal/tou_json/tou_json.json').json()\n",
    "    tou_d = tou[0]\n",
    "    i = 1\n",
    "    tou_df = []\n",
    "    while i < len(tou_d):\n",
    "        tou_df.append(tou_d[i])\n",
    "        i+=1\n",
    "    \n",
    "\n",
    "    i = 0\n",
    "    while i < len(tou_df):\n",
    "        totalFromminutes = converttomins(tou_df[i]['TOU From'], '%H:%M:%S')\n",
    "        totalTominutes = converttomins(tou_df[i]['TOU To'], '%H:%M:%S')\n",
    "        if (i == (len(tou_df) - 1 ) and (tou_df[i]['TOU To'] == '00:00:00')):\n",
    "            diff = Total_Daily_Minutes-totalFromminutes\n",
    "        else:\n",
    "            diff = abs(totalTominutes - totalFromminutes)\n",
    "        diff = diff/DR_interval\n",
    "        tou_df[i]['Total Minutes'] = diff\n",
    "        i+=1\n",
    "    print(tou_df)\n",
    "    return tou_df\n",
    "\n",
    "def tou_data():\n",
    "    \n",
    "    data = retrieveToU()\n",
    "\n",
    "    price = []\n",
    "    time_of_use = []\n",
    "    tou_data = []\n",
    "    plotdata =[]\n",
    "    i = 0\n",
    "    while i < len(data):\n",
    "        j = 0\n",
    "        max = int(data[i]['Total Minutes'])\n",
    "        while j < max:\n",
    "            price.append(int(data[i]['TOU Price']))\n",
    "            j+=1\n",
    "        if (data[i]['TOU Period'] == 'ON-Peak'):\n",
    "            time_of_use.append('#e74c3c')\n",
    "        elif (data[i]['TOU Period'] == 'MID-Peak'):\n",
    "            time_of_use.append('#e7a23c')\n",
    "        elif (data[i]['TOU Period'] == 'OFF-Peak'):\n",
    "            time_of_use.append('#2ecc71')\n",
    "        i+=1\n",
    "        plotdata.append(max)\n",
    "    tou_data.append(plotdata)\n",
    "    tou_data.append(time_of_use)\n",
    "    tou_data.append(price)\n",
    "    return tou_data\n",
    "\n",
    "print(tou_data())\n",
    "print(len(price))\n",
    "#print('\\n')\n",
    "#print(len(price))\n",
    "#print('\\n')\n",
    "#print(time_of_use)\n",
    "#print('\\n')\n",
    "            \n"
   ]
  },
  {
   "cell_type": "code",
   "execution_count": null,
   "metadata": {},
   "outputs": [],
   "source": [
    "newprice =[1, 1, 1, 1, 2, 2, 2, 2, 1, 1, 1, 1, 3, 3, 3, 3, 1, 1, 1, 1, 3, 3, 3, 3, 1, 1, 1, 1, 3, 3, 3, 3, 2, 2, 2, 2, 2, 2, 2, 2, 3, 3, 3, 3, 2, 2, 2, 2, 1, 1, 1, 1, 2, 2, 2, 2, 3, 3, 3, 3, 2, 2, 2, 2, 3, 3, 3, 3, 1, 1, 1, 1, 3, 3, 3, 3, 2, 2, 2, 2, 3, 3, 3, 3, 3, 3, 3, 1, 1, 1, 1, 3, 3, 3, 3, 3]\n",
    "\n",
    "print(len(newprice))\n"
   ]
  },
  {
   "cell_type": "code",
   "execution_count": null,
   "metadata": {},
   "outputs": [],
   "source": []
  }
 ],
 "metadata": {
  "kernelspec": {
   "display_name": "Python 3",
   "language": "python",
   "name": "python3"
  },
  "language_info": {
   "codemirror_mode": {
    "name": "ipython",
    "version": 3
   },
   "file_extension": ".py",
   "mimetype": "text/x-python",
   "name": "python",
   "nbconvert_exporter": "python",
   "pygments_lexer": "ipython3",
   "version": "3.6.8"
  }
 },
 "nbformat": 4,
 "nbformat_minor": 2
}
